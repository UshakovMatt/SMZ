{
 "cells": [
  {
   "cell_type": "code",
   "execution_count": 67,
   "metadata": {
    "executionInfo": {
     "elapsed": 5025,
     "status": "ok",
     "timestamp": 1702060650082,
     "user": {
      "displayName": "Adlisse",
      "userId": "09888939323989321551"
     },
     "user_tz": -180
    },
    "id": "oEBABka8riul"
   },
   "outputs": [],
   "source": [
    "import numpy as np\n",
    "import torch\n",
    "import torch.nn.functional as F"
   ]
  },
  {
   "cell_type": "code",
   "execution_count": 68,
   "metadata": {
    "executionInfo": {
     "elapsed": 22,
     "status": "ok",
     "timestamp": 1702060650083,
     "user": {
      "displayName": "Adlisse",
      "userId": "09888939323989321551"
     },
     "user_tz": -180
    },
    "id": "4yUQk6hMriup"
   },
   "outputs": [],
   "source": [
    "class Conv2D:\n",
    "    def __init__(self, input_data, kernel_size: tuple | int, bias: float | None = None,\n",
    "                 stride: int = 1, padding: tuple[int, int] | int | str = (0, 0), dilation: int = 1):\n",
    "        self.input_data_numpy = input_data[0, 0].numpy()\n",
    "        self.input_data_torch = input_data\n",
    "        self.bias = bias\n",
    "\n",
    "        self.kernel_size = (kernel_size, kernel_size) if isinstance(kernel_size, int) else kernel_size\n",
    "        self.stride, self.dilation = stride, dilation\n",
    "\n",
    "        if isinstance(padding, tuple):\n",
    "            self.padding = padding\n",
    "        elif padding == 'same' and stride == 1:\n",
    "            self.padding = (self.kernel_size[0] - 1, self.kernel_size[1] - 1)\n",
    "        else:\n",
    "            self.padding = (0, 0)\n",
    "\n",
    "        self.weight_tensor_torch = torch.randn(1, 1, *self.kernel_size)\n",
    "        self.weight_tensor_numpy = self.weight_tensor_torch[0, 0].detach().numpy()\n",
    "\n",
    "    def conv2d(self):\n",
    "        image_height, image_width = self.input_data_numpy.shape\n",
    "        H_out = (image_height + 2 * self.padding[0] - self.dilation * (self.kernel_size[0] - 1) - 1) // self.stride + 1\n",
    "        W_out = (image_width + 2 * self.padding[1] - self.dilation * (self.kernel_size[1] - 1) - 1) // self.stride + 1\n",
    "\n",
    "        padded_input = np.pad(self.input_data_numpy, self.padding, mode='constant')\n",
    "        result = np.array([\n",
    "            [np.sum(padded_input[y * self.stride:y * self.stride + self.kernel_size[0],\n",
    "                 x * self.stride:x * self.stride + self.kernel_size[1]] * self.weight_tensor_numpy)\n",
    "             for x in range(W_out)] for y in range(H_out)\n",
    "        ])\n",
    "\n",
    "        if self.bias is not None:\n",
    "            result += self.bias\n",
    "\n",
    "        return result\n",
    "\n",
    "    def torch_conv2d(self):\n",
    "        return F.conv2d(self.input_data_torch, self.weight_tensor_torch, self.bias, self.stride, self.padding,\n",
    "                        self.dilation)\n",
    "\n",
    "    def test(self, print_flag=False):\n",
    "        my_conv2d = self.conv2d()\n",
    "        torch_out = np.array(self.torch_conv2d())\n",
    "        if print_flag:\n",
    "            print(\"MyConv2d:\\n\", my_conv2d)\n",
    "            print(\"PyTConv2d:\\n\", torch_out[0, 0])\n",
    "        print(np.allclose(my_conv2d, torch_out[0, 0]))\n"
   ]
  },
  {
   "cell_type": "markdown",
   "metadata": {},
   "source": [
    "### Далее проверям работоспособность фукнции на тесте со сверткой из торча, совпадают ли выходы и работает ли:"
   ]
  },
  {
   "cell_type": "markdown",
   "metadata": {},
   "source": [
    "#### ТЕСТЫ"
   ]
  },
  {
   "cell_type": "code",
   "execution_count": 69,
   "metadata": {
    "colab": {
     "base_uri": "https://localhost:8080/"
    },
    "executionInfo": {
     "elapsed": 21,
     "status": "ok",
     "timestamp": 1702060650083,
     "user": {
      "displayName": "Adlisse",
      "userId": "09888939323989321551"
     },
     "user_tz": -180
    },
    "id": "en4mN9C9tir1",
    "outputId": "0659f3a9-c298-4de2-f8c8-c806ac98452f"
   },
   "outputs": [
    {
     "name": "stdout",
     "output_type": "stream",
     "text": [
      "True\n",
      "True\n",
      "True\n",
      "True\n",
      "True\n",
      "True\n"
     ]
    }
   ],
   "source": [
    "image = torch.randn(1, 1, 5, 5)\n",
    "test1_out = Conv2D(image, kernel_size=1)\n",
    "test1_out.test()\n",
    "\n",
    "image = torch.randn(1, 1, 5, 5)\n",
    "test2_out = Conv2D(image, kernel_size=1, padding=(0, 0))\n",
    "test2_out.test()\n",
    "\n",
    "image = torch.randn(1, 1, 5, 5)\n",
    "test3_out = Conv2D(image, kernel_size=1, padding='same')\n",
    "test3_out.test()\n",
    "\n",
    "image = torch.randn(1, 1, 5, 5)\n",
    "test4_out = Conv2D(image, kernel_size=4, padding='same')\n",
    "test4_out.test()\n",
    "\n",
    "image = torch.randn(1, 1, 5, 5)\n",
    "test5_out = Conv2D(image, kernel_size=1, dilation=3)\n",
    "test5_out.test()\n",
    "\n",
    "image = torch.randn(1, 1, 5, 5)\n",
    "test6_out = Conv2D(image, kernel_size=1, stride=4)\n",
    "test6_out.test()\n"
   ]
  },
  {
   "cell_type": "markdown",
   "metadata": {},
   "source": [
    "### Результат функции свертки работает, результат совпадает с оригинальной "
   ]
  }
 ],
 "metadata": {
  "colab": {
   "provenance": []
  },
  "kernelspec": {
   "display_name": "Python 3 (ipykernel)",
   "language": "python",
   "name": "python3"
  },
  "language_info": {
   "codemirror_mode": {
    "name": "ipython",
    "version": 3
   },
   "file_extension": ".py",
   "mimetype": "text/x-python",
   "name": "python",
   "nbconvert_exporter": "python",
   "pygments_lexer": "ipython3",
   "version": "3.11.5"
  }
 },
 "nbformat": 4,
 "nbformat_minor": 4
}
