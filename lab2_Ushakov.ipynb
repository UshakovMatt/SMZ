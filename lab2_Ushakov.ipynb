{
 "cells": [
  {
   "cell_type": "code",
   "execution_count": 80,
   "metadata": {
    "executionInfo": {
     "elapsed": 5543,
     "status": "ok",
     "timestamp": 1702043269992,
     "user": {
      "displayName": "Adlisse",
      "userId": "09888939323989321551"
     },
     "user_tz": -180
    },
    "id": "AEsb-oVArv5N"
   },
   "outputs": [],
   "source": [
    "import torch\n",
    "import numpy as np\n",
    "from torch.nn.functional import conv3d as libConv3d"
   ]
  },
  {
   "cell_type": "code",
   "execution_count": 81,
   "metadata": {
    "executionInfo": {
     "elapsed": 4,
     "status": "ok",
     "timestamp": 1702043269993,
     "user": {
      "displayName": "Adlisse",
      "userId": "09888939323989321551"
     },
     "user_tz": -180
    },
    "id": "LadJN42Qrv5P"
   },
   "outputs": [],
   "source": [
    "class Conv3D:\n",
    "    def __init__(self, input_data, in_channels: int, out_channels: int, kernel_size: tuple | int,\n",
    "                 bias: float | None = None, stride: int = 1, padding: tuple[int, int, int] | int | str = (0, 0, 0),\n",
    "                 dilation: int = 1):\n",
    "        self.input_data_numpy = input_data.numpy()\n",
    "        self.input_data_torch = input_data\n",
    "        self.bias = bias\n",
    "\n",
    "        self.in_channels, self.out_channels = in_channels, out_channels\n",
    "        self.kernel_size = (kernel_size, kernel_size, kernel_size) if isinstance(kernel_size, int) else kernel_size\n",
    "        self.stride = (stride, stride, stride) if isinstance(stride, int) else stride\n",
    "        self.dilation = (dilation, dilation, dilation) if isinstance(dilation, int) else dilation\n",
    "\n",
    "        self.padding = self._parse_padding(padding)\n",
    "\n",
    "        self.weight_tensor_torch = torch.randn(1, 1, *self.kernel_size)\n",
    "        self.weight_tensor_numpy = self.weight_tensor_torch.numpy()\n",
    "\n",
    "    def _parse_padding(self, padding):\n",
    "        if isinstance(padding, tuple):\n",
    "            return padding\n",
    "        elif padding == \"same\":\n",
    "            if any(s != 1 for s in self.stride):\n",
    "                raise ValueError(\"padding 'same' works only with stride=1\")\n",
    "            return tuple(size - 1 for size in self.kernel_size)\n",
    "        elif padding == \"valid\":\n",
    "            return (0, 0, 0)\n",
    "        else:\n",
    "            return (padding, padding, padding)\n",
    "\n",
    "    def conv3d(self):\n",
    "        batches, _, depth_in, height_in, width_in = self.input_data_numpy.shape\n",
    "        out = []\n",
    "\n",
    "        for batch in range(batches):\n",
    "            depth_out = self._output_size(depth_in, self.kernel_size[0], self.padding[0], self.stride[0], self.dilation[0])\n",
    "            height_out = self._output_size(height_in, self.kernel_size[1], self.padding[1], self.stride[1], self.dilation[1])\n",
    "            width_out = self._output_size(width_in, self.kernel_size[2], self.padding[2], self.stride[2], self.dilation[2])\n",
    "\n",
    "            out.append(np.zeros((self.out_channels, depth_out, height_out, width_out)))\n",
    "\n",
    "            for channel_out in range(self.out_channels):\n",
    "                for z_out in range(depth_out):\n",
    "                    for y_out in range(height_out):\n",
    "                        for x_out in range(width_out):\n",
    "                            total_sum = 0\n",
    "                            for channel_in in range(self.in_channels):\n",
    "                                for kernel_z in range(self.kernel_size[0]):\n",
    "                                    for kernel_y in range(self.kernel_size[1]):\n",
    "                                        for kernel_x in range(self.kernel_size[2]):\n",
    "                                            z_in = z_out * self.stride[0] + kernel_z * self.dilation[0] - self.padding[0]\n",
    "                                            y_in = y_out * self.stride[1] + kernel_y * self.dilation[1] - self.padding[1]\n",
    "                                            x_in = x_out * self.stride[2] + kernel_x * self.dilation[2] - self.padding[2]\n",
    "                                            if 0 <= z_in < depth_in and 0 <= y_in < height_in and 0 <= x_in < width_in:\n",
    "                                                total_sum += self.input_data_numpy[batch, channel_in, z_in, y_in, x_in] * \\\n",
    "                                                             self.weight_tensor_numpy[0, channel_out, kernel_z, kernel_y, kernel_x]\n",
    "\n",
    "                            out[batch][channel_out][z_out][y_out][x_out] = total_sum + (self.bias if self.bias else 0)\n",
    "\n",
    "        return np.array(out)\n",
    "\n",
    "    def _output_size(self, input_size, kernel_size, padding, stride, dilation):\n",
    "        return int((input_size + 2 * padding - dilation * (kernel_size - 1) - 1) / stride + 1)\n",
    "\n",
    "    def torch_conv3d(self):\n",
    "        return libConv3d(self.input_data_torch, self.weight_tensor_torch, bias=torch.tensor([self.bias]),\n",
    "                         stride=self.stride, padding=self.padding, dilation=self.dilation)\n",
    "\n",
    "    def test(self, print_flag=False):\n",
    "        my_conv3d = self.conv3d()\n",
    "        torch_out = self.torch_conv3d().squeeze().detach().numpy()\n",
    "        if print_flag:\n",
    "            print(my_conv3d[0][0])\n",
    "            print(torch_out)\n",
    "        print(np.allclose(my_conv3d[0][0], torch_out))"
   ]
  },
  {
   "cell_type": "markdown",
   "metadata": {},
   "source": [
    "### Как и в прошлой лаб.работе проверяем работоспособность функции:"
   ]
  },
  {
   "cell_type": "markdown",
   "metadata": {},
   "source": [
    "#### ТЕСТЫ"
   ]
  },
  {
   "cell_type": "code",
   "execution_count": 83,
   "metadata": {
    "colab": {
     "base_uri": "https://localhost:8080/"
    },
    "executionInfo": {
     "elapsed": 651,
     "status": "ok",
     "timestamp": 1702048241328,
     "user": {
      "displayName": "Adlisse",
      "userId": "09888939323989321551"
     },
     "user_tz": -180
    },
    "id": "r9qsPPxrrv5R",
    "outputId": "c596d661-221b-433b-dccc-9a5a7fd3af37"
   },
   "outputs": [
    {
     "name": "stdout",
     "output_type": "stream",
     "text": [
      "True\n",
      "True\n",
      "True\n",
      "True\n"
     ]
    }
   ],
   "source": [
    "input_data = torch.randn(1, 1, 5, 5, 5)\n",
    "conv3d_layer = Conv3D(input_data, in_channels=1, out_channels=1, kernel_size=3, bias=0.3, stride=2, padding=1, dilation=2)\n",
    "conv3d_layer.test(print_flag=False)\n",
    "\n",
    "input_data = torch.randn(1, 1, 5, 5, 5)\n",
    "conv3d_layer = Conv3D(input_data, in_channels=1, out_channels=1, kernel_size=2, bias=0.2, stride=3, padding=2, dilation=1)\n",
    "conv3d_layer.test(print_flag=False)\n",
    "\n",
    "input_data = torch.randn(1, 1, 5, 5, 5)\n",
    "conv3d_layer = Conv3D(input_data, in_channels=1, out_channels=1, kernel_size=3, bias=0.4, stride=1, padding=1, dilation=1)\n",
    "conv3d_layer.test(print_flag=False)\n",
    "\n",
    "input_data = torch.randn(1, 1, 5, 5, 5)\n",
    "conv3d_layer = Conv3D(input_data, in_channels=1, out_channels=1, kernel_size=2, bias=0.1, stride=2, padding=2, dilation=1)\n",
    "conv3d_layer.test(print_flag=False)"
   ]
  },
  {
   "cell_type": "markdown",
   "metadata": {},
   "source": [
    "### Функция свертки работает, результаты совпадают."
   ]
  }
 ],
 "metadata": {
  "colab": {
   "provenance": []
  },
  "kernelspec": {
   "display_name": "Python 3 (ipykernel)",
   "language": "python",
   "name": "python3"
  },
  "language_info": {
   "codemirror_mode": {
    "name": "ipython",
    "version": 3
   },
   "file_extension": ".py",
   "mimetype": "text/x-python",
   "name": "python",
   "nbconvert_exporter": "python",
   "pygments_lexer": "ipython3",
   "version": "3.11.5"
  }
 },
 "nbformat": 4,
 "nbformat_minor": 4
}
